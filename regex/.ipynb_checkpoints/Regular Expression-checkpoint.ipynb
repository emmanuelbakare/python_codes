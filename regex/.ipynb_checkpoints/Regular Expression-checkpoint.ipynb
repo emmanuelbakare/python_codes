{
 "cells": [
  {
   "cell_type": "markdown",
   "id": "36842ae8-037e-40f4-8bcc-65f386924bff",
   "metadata": {},
   "source": [
    "```markdown\n",
    "# Python Regular Expression Special Characters\n",
    "\n",
    "Below is a table describing the special characters used in Python's regular expressions (via the `re` module) and their purposes.\n",
    "\n",
    "| Special Character | Description | Example | Example Explanation |\n",
    "|-------------------|-------------|---------|---------------------|\n",
    "| `.` | Matches any single character except newline (`\\n`). | `a.b` | Matches `axb`, `a1b`, `a@b`, etc., but not `ab` or `a\\nb`. |\n",
    "| `^` | Matches the start of a string. | `^abc` | Matches `abc` at the beginning of a string, e.g., `abcde`, but not `xabc`. |\n",
    "| `$` | Matches the end of a string. | `xyz$` | Matches `xyz` at the end of a string, e.g., `wxyz`, but not `xyza`. |\n",
    "| `*` | Matches 0 or more repetitions of the preceding pattern. | `ab*` | Matches `a`, `ab`, `abb`, `abbb`, etc. |\n",
    "| `+` | Matches 1 or more repetitions of the preceding pattern. | `ab+` | Matches `ab`, `abb`, `abbb`, etc., but not `a`. |\n",
    "| `?` | Matches 0 or 1 repetition of the preceding pattern. | `ab?` | Matches `a` or `ab`. |\n",
    "| `{m}` | Matches exactly `m` repetitions of the preceding pattern. | `a{3}` | Matches `aaa`, but not `aa` or `aaaa`. |\n",
    "| `{m,n}` | Matches between `m` and `n` repetitions of the preceding pattern (inclusive). | `a{2,4}` | Matches `aa`, `aaa`, or `aaaa`, but not `a` or `aaaaa`. |\n",
    "| `[]` | Defines a character class; matches any single character within the brackets. | `[abc]` | Matches `a`, `b`, or `c`. |\n",
    "| `[^]` | Matches any single character not in the brackets. | `[^abc]` | Matches any character except `a`, `b`, or `c`. |\n",
    "| `|` | Matches either the pattern before or after the `|`. | `a|b` | Matches `a` or `b`. |\n",
    "| `()` | Groups patterns together; captures the matched substring. | `(abc)` | Matches `abc` and captures it as a group. |\n",
    "| `\\` | Escapes a special character to treat it as a literal or denotes a special sequence. | `\\.` | Matches a literal `.` (dot). |\n",
    "| `\\d` | Matches any digit (0-9). | `\\d` | Matches `5` in `a5b`. |\n",
    "| `\\D` | Matches any non-digit. | `\\D` | Matches `a` or `b` in `a5b`. |\n",
    "| `\\w` | Matches any word character (letters, digits, underscore). | `\\w` | Matches `a`, `5`, or `_` in `a5_`. |\n",
    "| `\\W` | Matches any non-word character. | `\\W` | Matches `@` or `#` in `a@5`. |\n",
    "| `\\s` | Matches any whitespace character (space, tab, newline, etc.). | `\\s` | Matches a space in `a b`. |\n",
    "| `\\S` | Matches any non-whitespace character. | `\\S` | Matches `a` or `b` in `a b`. |\n",
    "| `\\b` | Matches a word boundary. | `\\bword\\b` | Matches `word` in `word space` but not in `sword` or `words`. |\n",
    "| `\\B` | Matches a non-word boundary. | `\\Bword\\B` | Matches `word` in `swordplay` but not in `word space`. |\n",
    "| `\\A` | Matches the start of a string (like `^` but ignores multiline mode). | `\\Aabc` | Matches `abc` at the start of the string. |\n",
    "| `\\Z` | Matches the end of a string before the final newline (if any). | `xyz\\Z` | Matches `xyz` at the end of `xyz` or `xyz\\n`. |\n",
    "| `\\z` | Matches the absolute end of a string. | `xyz\\z` | Matches `xyz` at the end of `xyz` but not `xyz\\n`. |\n",
    "\n",
    "## Notes\n",
    "- Use raw strings (e.g., `r\"pattern\"`) in Python to avoid escaping backslashes.\n",
    "- The `re` module provides functions like `re.match()`, `re.search()`, `re.findall()`, etc., to work with these patterns.\n",
    "- For more complex patterns, combine these special characters, e.g., `r\"\\d{2}-\\d{2}-\\d{4}\"` for dates like `12-31-2023`.\n",
    "```"
   ]
  },
  {
   "cell_type": "markdown",
   "id": "22e005e6-426d-4be8-b468-fb3b0b820b53",
   "metadata": {},
   "source": [
    "### 1. (Dot – Any Character)\n",
    "Meaning: Matches any single character except newline \\n."
   ]
  },
  {
   "cell_type": "code",
   "execution_count": 1,
   "id": "98f4bdd5-4087-4cfe-88d1-2875cc675894",
   "metadata": {},
   "outputs": [
    {
     "name": "stdout",
     "output_type": "stream",
     "text": [
      "['aab', 'abb', 'acb']\n"
     ]
    }
   ],
   "source": [
    "import re\n",
    "result = re.findall(r'a.b', 'aab abb acb a\\nb')\n",
    "print(result)  # Output: ['aab', 'abb', 'acb']"
   ]
  },
  {
   "cell_type": "markdown",
   "id": "fdaa5623-3d50-4a96-91f4-deac2b0f2eeb",
   "metadata": {},
   "source": [
    "2. ### ^ (Caret – Start of String)\n",
    "Meaning: Matches if the string starts with the given pattern.\n",
    "\n",
    "Example:"
   ]
  },
  {
   "cell_type": "code",
   "execution_count": 2,
   "id": "a81b1c72-bf4b-479f-b734-2e1eb9dc381f",
   "metadata": {},
   "outputs": [
    {
     "name": "stdout",
     "output_type": "stream",
     "text": [
      "['Hello']\n"
     ]
    }
   ],
   "source": [
    "result = re.findall(r'^Hello', 'Hello World')\n",
    "print(result)  # Output: ['Hello']"
   ]
  },
  {
   "cell_type": "markdown",
   "id": "0d429fc9-536e-41da-8864-fe3625b18643",
   "metadata": {},
   "source": [
    "### 3. $ (Dollar – End of String)\n",
    "Meaning: Matches if the string ends with the given pattern.\n",
    " "
   ]
  },
  {
   "cell_type": "code",
   "execution_count": 3,
   "id": "756c2f0d-317a-4218-910f-96a8a4bcc8b4",
   "metadata": {},
   "outputs": [
    {
     "name": "stdout",
     "output_type": "stream",
     "text": [
      "['World']\n"
     ]
    }
   ],
   "source": [
    "result = re.findall(r'World$', 'Hello World')\n",
    "print(result)  # Output: ['World']"
   ]
  },
  {
   "cell_type": "markdown",
   "id": "40dbfa83-e9fe-4280-aa4a-95f2c581417f",
   "metadata": {},
   "source": [
    "### 4. * (Asterisk – Zero or More Repetitions)\n",
    "Meaning: Matches 0 or more of the preceding character.\n"
   ]
  },
  {
   "cell_type": "code",
   "execution_count": 4,
   "id": "c3a70898-5b56-4e6a-a8b8-9a2a89c447e7",
   "metadata": {},
   "outputs": [
    {
     "name": "stdout",
     "output_type": "stream",
     "text": [
      "['ab', 'abb', 'abbb', 'a']\n"
     ]
    }
   ],
   "source": [
    "result = re.findall(r'ab*', 'ab abb abbb ac')\n",
    "print(result)  # Output: ['ab', 'abb', 'abbb', 'a']"
   ]
  },
  {
   "cell_type": "markdown",
   "id": "a69828a8-2f67-4937-8330-56e86915ae78",
   "metadata": {},
   "source": [
    "### 5. + (Plus – One or More Repetitions)\n",
    "Meaning: Matches 1 or more of the preceding character."
   ]
  },
  {
   "cell_type": "code",
   "execution_count": 5,
   "id": "c9b42877-7155-472b-b155-1ef6c1d81cc6",
   "metadata": {},
   "outputs": [
    {
     "name": "stdout",
     "output_type": "stream",
     "text": [
      "['ab', 'abb', 'abbb']\n"
     ]
    }
   ],
   "source": [
    "result = re.findall(r'ab+', 'ab abb abbb ac')\n",
    "print(result)  # Output: ['ab', 'abb', 'abbb']"
   ]
  },
  {
   "cell_type": "markdown",
   "id": "e7261e38-cb76-4998-9b9e-983d46a88f93",
   "metadata": {},
   "source": [
    "### 6. ? (Question Mark – Zero or One)\n",
    "Meaning: Matches 0 or 1 of the preceding character.\n",
    "Also used for non-greedy matches when combined with * or +."
   ]
  },
  {
   "cell_type": "code",
   "execution_count": 6,
   "id": "05b8e945-05a3-4f3e-8dd5-25590a212c34",
   "metadata": {},
   "outputs": [
    {
     "name": "stdout",
     "output_type": "stream",
     "text": [
      "['ab', 'ab', 'a']\n"
     ]
    }
   ],
   "source": [
    "result = re.findall(r'ab?', 'ab abb ac')\n",
    "print(result)  # Output: ['ab', 'ab', 'a']"
   ]
  },
  {
   "cell_type": "markdown",
   "id": "87ad9d48-a0e9-4fa9-83e6-58d180304271",
   "metadata": {},
   "source": [
    "### 7. {} (Braces – Specific Repetition)\n",
    "Meaning: Matches exact or range of repetitions.\n",
    "\n",
    "Examples:"
   ]
  },
  {
   "cell_type": "code",
   "execution_count": 7,
   "id": "9d05066b-5ad8-4729-af8b-9860f829f168",
   "metadata": {},
   "outputs": [
    {
     "data": {
      "text/plain": [
       "['aa', 'aaa', 'aaaa']"
      ]
     },
     "execution_count": 7,
     "metadata": {},
     "output_type": "execute_result"
    }
   ],
   "source": [
    "re.findall(r'a{3}', 'aa aaaa aaa')       # ['aaa']\n",
    "re.findall(r'a{2,4}', 'a aa aaa aaaa')   # ['aa', 'aaa', 'aaaa']"
   ]
  },
  {
   "cell_type": "markdown",
   "id": "f10bc232-d9b0-498c-8b94-24dbc299c9c8",
   "metadata": {},
   "source": [
    "### 8. [] (Square Brackets – Character Set)\n",
    "Meaning: Matches any one of the characters inside.\n",
    "\n",
    "Example:"
   ]
  },
  {
   "cell_type": "code",
   "execution_count": 8,
   "id": "8d5df5fd-313c-4a38-88c9-76aaf62ada73",
   "metadata": {},
   "outputs": [
    {
     "data": {
      "text/plain": [
       "['a', 'b', 'c', 'a']"
      ]
     },
     "execution_count": 8,
     "metadata": {},
     "output_type": "execute_result"
    }
   ],
   "source": [
    "re.findall(r'[abc]', 'apple boy cat')  # ['a', 'b', 'c', 'a']"
   ]
  },
  {
   "cell_type": "code",
   "execution_count": 9,
   "id": "3f4225e2-5141-43d5-82cd-2dcfb431e092",
   "metadata": {},
   "outputs": [
    {
     "data": {
      "text/plain": [
       "['d', 'e', 'f']"
      ]
     },
     "execution_count": 9,
     "metadata": {},
     "output_type": "execute_result"
    }
   ],
   "source": [
    "#You can also use ranges:\n",
    "re.findall(r'[a-z]', 'ABC def XYZ')  # ['d', 'e', 'f']"
   ]
  },
  {
   "cell_type": "markdown",
   "id": "50ae9dce-2b03-463f-9c99-4c75e9babbba",
   "metadata": {},
   "source": [
    "### 9. \\ (Backslash – Escape Character / Special Sequences)\n",
    "Meaning: Used to escape characters or signal special sequences like \\d, \\w, etc.\n",
    "\n",
    "Example (escape):"
   ]
  },
  {
   "cell_type": "code",
   "execution_count": 10,
   "id": "391b25dd-71ff-4f25-ac17-654293928fc8",
   "metadata": {},
   "outputs": [
    {
     "data": {
      "text/plain": [
       "['.']"
      ]
     },
     "execution_count": 10,
     "metadata": {},
     "output_type": "execute_result"
    }
   ],
   "source": [
    "re.findall(r'\\.', 'file.txt')  # ['.']"
   ]
  },
  {
   "cell_type": "code",
   "execution_count": 11,
   "id": "8ea11fb3-6e72-44bf-9663-78cecb65a7d4",
   "metadata": {},
   "outputs": [
    {
     "data": {
      "text/plain": [
       "['24', '35']"
      ]
     },
     "execution_count": 11,
     "metadata": {},
     "output_type": "execute_result"
    }
   ],
   "source": [
    "# Example (special):\n",
    "re.findall(r'\\d+', 'Age 24 and 35')  # ['24', '35']"
   ]
  },
  {
   "cell_type": "markdown",
   "id": "5db3a222-d514-43c2-a73e-aaea21eb6dd4",
   "metadata": {},
   "source": [
    "### 10. | (Pipe – OR)\n",
    "Meaning: Acts like a logical OR.\n",
    "\n",
    "Example:"
   ]
  },
  {
   "cell_type": "code",
   "execution_count": 12,
   "id": "facac670-441b-4772-b39a-5be724194913",
   "metadata": {},
   "outputs": [
    {
     "data": {
      "text/plain": [
       "['cat', 'dog']"
      ]
     },
     "execution_count": 12,
     "metadata": {},
     "output_type": "execute_result"
    }
   ],
   "source": [
    "re.findall(r'cat|dog', 'cat and dog')  # ['cat', 'dog']"
   ]
  },
  {
   "cell_type": "markdown",
   "id": "d8dcd022-a624-4a95-874b-872955ef1250",
   "metadata": {},
   "source": [
    "### 11. () (Parentheses – Grouping and Capturing)\n",
    "Meaning: Groups expressions and captures matched groups.\n",
    "\n",
    "Example:"
   ]
  },
  {
   "cell_type": "code",
   "execution_count": 13,
   "id": "b91b40ef-c141-403e-a5e2-0810c6210452",
   "metadata": {},
   "outputs": [
    {
     "name": "stdout",
     "output_type": "stream",
     "text": [
      "('aaa', 'bbb')\n"
     ]
    }
   ],
   "source": [
    "match = re.search(r'(a+)(b+)', 'aaabbb')\n",
    "print(match.groups())  # ('aaa', 'bbb')"
   ]
  },
  {
   "cell_type": "markdown",
   "id": "6e98e153-f53b-4e5f-b52d-ee0b1372d6e5",
   "metadata": {},
   "source": [
    "# Special Sequences in Regex\n",
    "Sequence\tMeaning\n",
    "- \\d\tMatches any digit (0–9)\n",
    "- \\D\tMatches any non-digit\n",
    "- \\w\tMatches any word character (a–z, A–Z, 0–9, _)\n",
    "- \\W\tMatches any non-word character\n",
    "- \\s\tMatches any whitespace (space, tab, newline)\n",
    "- \\S\tMatches any non-whitespace character\n",
    "- \\b\tMatches a word boundary\n",
    "- \\B\tMatches a non-word boundary\n",
    "- \\\\\tEscapes a backslash\n",
    "\n",
    "Let’s go through each one step by step with examples."
   ]
  },
  {
   "cell_type": "markdown",
   "id": "41208a7b-482b-4100-83b4-cd9692594ecb",
   "metadata": {},
   "source": [
    "### 1. \\d – Digit\n",
    "Meaning: Matches any digit from 0 to 9.\n",
    "\n",
    "Example:"
   ]
  },
  {
   "cell_type": "code",
   "execution_count": 14,
   "id": "371a0c3b-e5a7-42d2-aad8-5a9070fafba7",
   "metadata": {},
   "outputs": [
    {
     "data": {
      "text/plain": [
       "['12345']"
      ]
     },
     "execution_count": 14,
     "metadata": {},
     "output_type": "execute_result"
    }
   ],
   "source": [
    "import re\n",
    "re.findall(r'\\d+', 'My phone number is 12345')  # ['12345']"
   ]
  },
  {
   "cell_type": "markdown",
   "id": "1ef70a43-b3b8-4308-98a2-89ded7a84a23",
   "metadata": {},
   "source": [
    "### 2. \\D – Non-Digit\n",
    "Meaning: Matches any character that is not a digit.\n",
    "\n",
    "Example:"
   ]
  },
  {
   "cell_type": "code",
   "execution_count": 15,
   "id": "ad2b7425-6a2f-4ce6-b065-919fa4278f16",
   "metadata": {},
   "outputs": [
    {
     "data": {
      "text/plain": [
       "['Room ']"
      ]
     },
     "execution_count": 15,
     "metadata": {},
     "output_type": "execute_result"
    }
   ],
   "source": [
    "re.findall(r'\\D+', 'Room 101')  # ['Room ']"
   ]
  },
  {
   "cell_type": "markdown",
   "id": "450cee5d-b3c9-49d3-8f56-4b130e5a9ed2",
   "metadata": {},
   "source": [
    "### 3. \\w – Word Character\n",
    "Meaning: Matches any alphanumeric character plus underscore: [a-zA-Z0-9_]\n",
    "\n",
    "Example:"
   ]
  },
  {
   "cell_type": "code",
   "execution_count": 16,
   "id": "0730f762-e4a9-4f9b-a55c-947afe4ec2e8",
   "metadata": {},
   "outputs": [
    {
     "data": {
      "text/plain": [
       "['Hello_world', '123']"
      ]
     },
     "execution_count": 16,
     "metadata": {},
     "output_type": "execute_result"
    }
   ],
   "source": [
    "re.findall(r'\\w+', 'Hello_world 123!')  # ['Hello_world', '123']\n"
   ]
  },
  {
   "cell_type": "markdown",
   "id": "c4be5f23-1e84-434f-97dc-040e8e65cf7d",
   "metadata": {},
   "source": [
    "### 4. \\W – Non-Word Character\n",
    "Meaning: Matches anything not a word character.\n",
    "\n",
    "Example:"
   ]
  },
  {
   "cell_type": "code",
   "execution_count": 17,
   "id": "c7d87c31-ddfb-4374-ac58-43000e5fef8c",
   "metadata": {},
   "outputs": [
    {
     "data": {
      "text/plain": [
       "[' ', '! ']"
      ]
     },
     "execution_count": 17,
     "metadata": {},
     "output_type": "execute_result"
    }
   ],
   "source": [
    "re.findall(r'\\W+', 'Hello world! 123')  # [' ', '! ']"
   ]
  },
  {
   "cell_type": "markdown",
   "id": "112de8c7-e18f-44a1-8152-9271c2841cf0",
   "metadata": {},
   "source": [
    "### 5. \\s – Whitespace\n",
    "Meaning: Matches spaces, tabs, newlines, etc.\n",
    "\n",
    "Example:"
   ]
  },
  {
   "cell_type": "code",
   "execution_count": 18,
   "id": "c8dc8019-4b13-43ad-9836-9d6587425f83",
   "metadata": {},
   "outputs": [
    {
     "data": {
      "text/plain": [
       "['   ', '\\t']"
      ]
     },
     "execution_count": 18,
     "metadata": {},
     "output_type": "execute_result"
    }
   ],
   "source": [
    "re.findall(r'\\s+', 'Hello   world\\tPython')  # ['   ', '\\t']"
   ]
  },
  {
   "cell_type": "markdown",
   "id": "f585f2a5-3ff0-47df-b266-12fc554ef7e0",
   "metadata": {},
   "source": [
    "### 6. \\S – Non-Whitespace\n",
    "Meaning: Matches any character that is not a whitespace.\n",
    "\n",
    "Example:"
   ]
  },
  {
   "cell_type": "code",
   "execution_count": 19,
   "id": "04d37ce0-63d3-4797-ba44-c898996653fe",
   "metadata": {},
   "outputs": [
    {
     "data": {
      "text/plain": [
       "['Line', '1', 'Line', '2']"
      ]
     },
     "execution_count": 19,
     "metadata": {},
     "output_type": "execute_result"
    }
   ],
   "source": [
    "re.findall(r'\\S+', 'Line 1\\nLine 2')  # ['Line', '1', 'Line', '2']"
   ]
  },
  {
   "cell_type": "markdown",
   "id": "4a0f2858-d541-4924-a42f-eb68b38f5fb0",
   "metadata": {},
   "source": [
    "### 7. \\b – Word Boundary\n",
    "Meaning: Matches the boundary between a word and a non-word character.\n",
    "\n",
    "Example:"
   ]
  },
  {
   "cell_type": "code",
   "execution_count": 20,
   "id": "7cf2298d-364f-4b63-b129-44f7cc62305e",
   "metadata": {},
   "outputs": [
    {
     "data": {
      "text/plain": [
       "['cat']"
      ]
     },
     "execution_count": 20,
     "metadata": {},
     "output_type": "execute_result"
    }
   ],
   "source": [
    "re.findall(r'\\bcat\\b', 'cat scatter catalog')  # ['cat']"
   ]
  },
  {
   "cell_type": "markdown",
   "id": "f1f9e764-eab9-4a35-8494-1e49580047c0",
   "metadata": {},
   "source": [
    "### 8. \\B – Non-Word Boundary\n",
    "Meaning: Matches inside a word, not at the beginning or end.\n",
    "\n",
    "Example:"
   ]
  },
  {
   "cell_type": "code",
   "execution_count": 23,
   "id": "7e4254c3-8a09-42bb-9b18-017691d30e22",
   "metadata": {},
   "outputs": [
    {
     "data": {
      "text/plain": [
       "['cat']"
      ]
     },
     "execution_count": 23,
     "metadata": {},
     "output_type": "execute_result"
    }
   ],
   "source": [
    "re.findall(r'\\Bcat\\B', 'scatter catalog cat')  # ['cat']\n",
    "\n",
    "#This finds \"cat\" within words like \"scatter\" or \"catalog\"."
   ]
  },
  {
   "cell_type": "markdown",
   "id": "3a1c569c-cd51-4d8d-9ec1-84d2a820a203",
   "metadata": {},
   "source": [
    "### 9. \\\\ – Escaping a Backslash\n",
    "Meaning: Matches a literal backslash \\.\n",
    "\n",
    "Example:"
   ]
  },
  {
   "cell_type": "code",
   "execution_count": 24,
   "id": "a5f6fbf3-05f1-4e72-b1aa-134c01c17171",
   "metadata": {},
   "outputs": [
    {
     "data": {
      "text/plain": [
       "['\\\\']"
      ]
     },
     "execution_count": 24,
     "metadata": {},
     "output_type": "execute_result"
    }
   ],
   "source": [
    "re.findall(r'\\\\', 'folder\\\\path')  # ['\\\\']"
   ]
  },
  {
   "cell_type": "markdown",
   "id": "6645ef43-10b0-4ae0-8a71-df11bfc25424",
   "metadata": {},
   "source": [
    "---\n",
    "---\n",
    "\n",
    "# MORE EXAMPLES\n"
   ]
  },
  {
   "cell_type": "markdown",
   "id": "535689ed-2c63-4bd6-838a-7e8144aefdb8",
   "metadata": {},
   "source": [
    "### 1. Extract All Digits\n",
    "Task: Match all numbers from a string.\n",
    "\n",
    "Input:"
   ]
  },
  {
   "cell_type": "code",
   "execution_count": 28,
   "id": "1f0cfafe-5405-4d9c-9f45-49fbb944b194",
   "metadata": {},
   "outputs": [
    {
     "name": "stdout",
     "output_type": "stream",
     "text": [
      "['080', '1234', '5678', '100001']\n"
     ]
    }
   ],
   "source": [
    "text = \"My phone is 080-1234-5678 and zip is 100001\"\n",
    "import re\n",
    "print(re.findall(r'\\d+', text))"
   ]
  },
  {
   "cell_type": "markdown",
   "id": "fb6db6fd-53ed-4bda-95b8-ae9c67fafcca",
   "metadata": {},
   "source": [
    "### 2. Match All Whole Words\n",
    "Task: Extract all full words (alphanumeric + underscore).\n"
   ]
  },
  {
   "cell_type": "code",
   "execution_count": 30,
   "id": "62821445-cfea-441a-b355-a7195b144a8f",
   "metadata": {},
   "outputs": [
    {
     "name": "stdout",
     "output_type": "stream",
     "text": [
      "['Welcome_to', 'regex101', 'Learn', 'regex', 'at', '100', 'efficiency']\n"
     ]
    }
   ],
   "source": [
    "text = \"Welcome_to regex101! Learn regex at 100% efficiency.\"\n",
    "print(re.findall(r'\\w+', text))\n"
   ]
  },
  {
   "cell_type": "markdown",
   "id": "84682568-7f84-4585-82a3-bd1e591b495b",
   "metadata": {},
   "source": [
    "###  3. Get Words That Start With Capital Letter\n",
    "Task: Match all words starting with an uppercase letter."
   ]
  },
  {
   "cell_type": "code",
   "execution_count": 31,
   "id": "65b9d877-7e18-4c25-bd8c-cccb37c3e78f",
   "metadata": {},
   "outputs": [
    {
     "name": "stdout",
     "output_type": "stream",
     "text": [
      "['Python', 'JavaScript', 'Programming', 'Languages']\n"
     ]
    }
   ],
   "source": [
    "text = \"Python and JavaScript are Programming Languages.\"\n",
    "print(re.findall(r'\\b[A-Z]\\w*', text))"
   ]
  },
  {
   "cell_type": "markdown",
   "id": "d2f09e54-0140-4158-ad5b-02ad931cc664",
   "metadata": {},
   "source": [
    "### 4. Extract Emails From Text\n",
    "Task: Extract all email addresses."
   ]
  },
  {
   "cell_type": "code",
   "execution_count": 32,
   "id": "caa752f0-ad9d-4749-b909-9627a4009c6c",
   "metadata": {},
   "outputs": [
    {
     "name": "stdout",
     "output_type": "stream",
     "text": [
      "['support@example.com', 'info@domain.co.uk']\n"
     ]
    }
   ],
   "source": [
    "text = \"Contact us at support@example.com or info@domain.co.uk\"\n",
    "print(re.findall(r'\\b[\\w.-]+@[\\w.-]+\\.\\w+', text))"
   ]
  },
  {
   "cell_type": "markdown",
   "id": "bd89b304-5b8d-4fd7-8710-eacde93082c2",
   "metadata": {},
   "source": [
    "### 5. Extract Hashtags\n",
    "Task: Extract all hashtags from a tweet."
   ]
  },
  {
   "cell_type": "code",
   "execution_count": 33,
   "id": "d1ea73fd-4100-46d5-a558-bd090e55608c",
   "metadata": {},
   "outputs": [
    {
     "name": "stdout",
     "output_type": "stream",
     "text": [
      "['#Python', '#Coding', '#Regex101']\n"
     ]
    }
   ],
   "source": [
    "text = \"Loving the #Python community! #Coding #Regex101\"\n",
    "print(re.findall(r'#\\w+', text))"
   ]
  },
  {
   "cell_type": "code",
   "execution_count": null,
   "id": "2c217ce0-c405-4e51-bb20-7712cf11513a",
   "metadata": {},
   "outputs": [],
   "source": []
  }
 ],
 "metadata": {
  "kernelspec": {
   "display_name": "Python 3 (ipykernel)",
   "language": "python",
   "name": "python3"
  },
  "language_info": {
   "codemirror_mode": {
    "name": "ipython",
    "version": 3
   },
   "file_extension": ".py",
   "mimetype": "text/x-python",
   "name": "python",
   "nbconvert_exporter": "python",
   "pygments_lexer": "ipython3",
   "version": "3.12.4"
  }
 },
 "nbformat": 4,
 "nbformat_minor": 5
}

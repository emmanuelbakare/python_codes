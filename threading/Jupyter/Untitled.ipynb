{
 "cells": [
  {
   "cell_type": "code",
   "execution_count": 2,
   "id": "d9cbf89b-1f73-42e6-864e-ad714b5a7984",
   "metadata": {},
   "outputs": [
    {
     "name": "stdout",
     "output_type": "stream",
     "text": [
      "Balance:  100\n"
     ]
    }
   ],
   "source": [
    "class Spend:\n",
    "    amount =100\n",
    "\n",
    "    def view(self):\n",
    "        print('Balance: ', self.amount)\n",
    "spend = Spend()\n",
    "spend.view()"
   ]
  },
  {
   "cell_type": "code",
   "execution_count": 3,
   "id": "88f0686b-cd6b-4a9c-ae0e-a060d2fa2c62",
   "metadata": {},
   "outputs": [
    {
     "name": "stdout",
     "output_type": "stream",
     "text": [
      "Balance:  100\n"
     ]
    }
   ],
   "source": [
    "class Spend:\n",
    "    def __init__(self):\n",
    "        self.amount =100\n",
    "\n",
    "    def view(self):\n",
    "        print('Balance: ', self.amount)\n",
    "spend = Spend()\n",
    "spend.view()"
   ]
  },
  {
   "cell_type": "code",
   "execution_count": null,
   "id": "4f2d5a19-be31-49fa-a181-413faa79ede7",
   "metadata": {},
   "outputs": [],
   "source": []
  }
 ],
 "metadata": {
  "kernelspec": {
   "display_name": "Python 3 (ipykernel)",
   "language": "python",
   "name": "python3"
  },
  "language_info": {
   "codemirror_mode": {
    "name": "ipython",
    "version": 3
   },
   "file_extension": ".py",
   "mimetype": "text/x-python",
   "name": "python",
   "nbconvert_exporter": "python",
   "pygments_lexer": "ipython3",
   "version": "3.12.4"
  }
 },
 "nbformat": 4,
 "nbformat_minor": 5
}

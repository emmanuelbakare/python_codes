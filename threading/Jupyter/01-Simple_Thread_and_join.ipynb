{
 "cells": [
  {
   "cell_type": "markdown",
   "id": "b0430b71-fc27-45b6-82d4-e3505592c0ad",
   "metadata": {},
   "source": [
    "# THREADING INTRO"
   ]
  },
  {
   "cell_type": "markdown",
   "id": "740c84c1-fff6-4e07-898f-62e765ff06e2",
   "metadata": {},
   "source": [
    "### Normal Code with method work working for 2 seconds"
   ]
  },
  {
   "cell_type": "code",
   "execution_count": 19,
   "id": "1a76d880-7886-4a0f-b7d6-445c8a02fce6",
   "metadata": {},
   "outputs": [
    {
     "name": "stdout",
     "output_type": "stream",
     "text": [
      "Doing some work\n",
      "Finish Working\n",
      "exiting\n"
     ]
    }
   ],
   "source": [
    "import time\n",
    "\n",
    "def work():\n",
    "    print(\"Doing some work\")\n",
    "    time.sleep(2)\n",
    "    print(\"Finish Working\")\n",
    "\n",
    " \n",
    "\n",
    "\n",
    "def main():\n",
    "    work()\n",
    "    print(\"exiting\")\n",
    "\n",
    "main()"
   ]
  },
  {
   "cell_type": "markdown",
   "id": "512ce64f-0b03-466b-b6d2-e59014544811",
   "metadata": {},
   "source": [
    "### adding simple thread -  main()  finishes before work() completes because work takes time"
   ]
  },
  {
   "cell_type": "code",
   "execution_count": 21,
   "id": "fab8951a-e9e2-446d-a127-305a86c33566",
   "metadata": {},
   "outputs": [
    {
     "name": "stdout",
     "output_type": "stream",
     "text": [
      "Doing some work\n",
      "exiting\n",
      "Finish Working\n"
     ]
    }
   ],
   "source": [
    "from threading import Thread\n",
    "import time\n",
    "\n",
    "def work():\n",
    "    print(\"Doing some work\")\n",
    "    time.sleep(2)\n",
    "    print(\"Finish Working\")\n",
    "\n",
    " \n",
    "\n",
    "\n",
    "def main():\n",
    "    thread = Thread(target=work, args=())\n",
    "    thread.start()\n",
    "    print(\"exiting\")\n",
    "\n",
    "main()"
   ]
  },
  {
   "cell_type": "markdown",
   "id": "21da4560-923d-4b7e-916b-d7c32238dc7f",
   "metadata": {},
   "source": [
    "###  adding simple thread 2 -  main()  waiths for  work() to completes  before finishing using join() to delay main()"
   ]
  },
  {
   "cell_type": "code",
   "execution_count": 18,
   "id": "8e5de470-8c34-430c-abd2-aa44567dc96c",
   "metadata": {},
   "outputs": [
    {
     "name": "stdout",
     "output_type": "stream",
     "text": [
      "Doing some work\n",
      "Finish Working\n",
      "exiting\n"
     ]
    }
   ],
   "source": [
    "from threading import Thread\n",
    "import time\n",
    "\n",
    "def work():\n",
    "    print(\"Doing some work\")\n",
    "    time.sleep(2)\n",
    "    print(\"Finish Working\")\n",
    "\n",
    " \n",
    "\n",
    "\n",
    "def main():\n",
    "    thread = Thread(target=work, args=())\n",
    "    thread.start()\n",
    "    thread.join()\n",
    "    print(\"exiting\")\n",
    "\n",
    "main()"
   ]
  },
  {
   "cell_type": "markdown",
   "id": "fda708ce-a7e8-4a2f-83aa-f40f1b7f0be4",
   "metadata": {},
   "source": [
    "###  adding simple thread 3 -  main()  waits for  work() and more_work() to completes before finishing using join() to delay main()`"
   ]
  },
  {
   "cell_type": "code",
   "execution_count": 23,
   "id": "9a10c1d2-4f05-4ec2-a063-f58618a4c39a",
   "metadata": {},
   "outputs": [
    {
     "name": "stdout",
     "output_type": "stream",
     "text": [
      "Doing some work\n",
      "Doing some MORE work\n",
      "Finish Working\n",
      "Finish MORE Working\n",
      "exiting\n"
     ]
    }
   ],
   "source": [
    "import threading\n",
    "import time\n",
    "\n",
    "def work():\n",
    "    print(\"Doing some work\")\n",
    "    time.sleep(2)\n",
    "    print(\"Finish Working\")\n",
    "\n",
    "\n",
    "def more_work():\n",
    "    print(\"Doing some MORE work\")\n",
    "    time.sleep(2)\n",
    "    print(\"Finish MORE Working\")\n",
    "\n",
    "\n",
    "def main():\n",
    "    workers=[work, more_work]\n",
    "    for worker in workers:\n",
    "        thread = threading.Thread(target=worker, args=())\n",
    "        thread.start()\n",
    "        thread.join() # enter each thread and wait for it to finish before entering another thread - this simulate regular action without thread\n",
    "    # thread.join()   # use this to start the two thread at same time but wait for them to finish before going back to end main()\n",
    "    print(\"exiting\")  \n",
    "\n",
    "main()"
   ]
  },
  {
   "cell_type": "code",
   "execution_count": null,
   "id": "b586fe44-8bf2-4766-a64d-e63e2c02375f",
   "metadata": {},
   "outputs": [],
   "source": []
  }
 ],
 "metadata": {
  "kernelspec": {
   "display_name": "Python 3 (ipykernel)",
   "language": "python",
   "name": "python3"
  },
  "language_info": {
   "codemirror_mode": {
    "name": "ipython",
    "version": 3
   },
   "file_extension": ".py",
   "mimetype": "text/x-python",
   "name": "python",
   "nbconvert_exporter": "python",
   "pygments_lexer": "ipython3",
   "version": "3.12.4"
  }
 },
 "nbformat": 4,
 "nbformat_minor": 5
}

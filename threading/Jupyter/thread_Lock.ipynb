{
 "cells": [
  {
   "cell_type": "markdown",
   "id": "0f5e5d77-1dd4-44bf-963b-f4d5a1345059",
   "metadata": {},
   "source": [
    "# Using Lock and Join"
   ]
  },
  {
   "cell_type": "code",
   "execution_count": null,
   "id": "e60356d9-35cc-457f-83c3-e8072e37444f",
   "metadata": {},
   "outputs": [],
   "source": [
    "# the result of the code is suppose to be 50,000,000 but because of result sharing the result may not be accurrate all the time"
   ]
  },
  {
   "cell_type": "code",
   "execution_count": 35,
   "id": "4dc9e06b-986a-4fab-a638-ec8e50fc63f6",
   "metadata": {},
   "outputs": [
    {
     "name": "stdout",
     "output_type": "stream",
     "text": [
      "Final counter: 48,544,124 @ 4.78998875617981\n"
     ]
    }
   ],
   "source": [
    "import threading\n",
    "import time\n",
    "\n",
    "counter = 0\n",
    "\n",
    "# Increment counter by 1 to make count=100000\n",
    "def increment():\n",
    "    global counter\n",
    "    for _ in range(1000000):\n",
    "        counter += 1\n",
    "\n",
    "# Run the thread 5 times, to make counter=500000\n",
    "threads = []\n",
    "start_time = time.time()\n",
    "for _ in range(50):\n",
    "    t = threading.Thread(target=increment)\n",
    "    t.start()\n",
    "    threads.append(t)\n",
    " \n",
    "end_time= time.time()\n",
    "print(\"Final counter:\", f\"{counter:,} @ {end_time - start_time}\")\n"
   ]
  },
  {
   "cell_type": "markdown",
   "id": "b9fd091b-830d-465c-8d54-bbc5bae253ce",
   "metadata": {},
   "source": [
    "### Locking the updated variable alone did not work - and it takes longer about 17secs"
   ]
  },
  {
   "cell_type": "code",
   "execution_count": 41,
   "id": "b33c2503-5207-4bf1-b554-29ca74005636",
   "metadata": {},
   "outputs": [
    {
     "name": "stdout",
     "output_type": "stream",
     "text": [
      "Final counter: 45,355,746 @ 17.55699348449707\n"
     ]
    }
   ],
   "source": [
    "from threading import Thread, Lock\n",
    "import time\n",
    "\n",
    "counter = 0\n",
    "lock = Lock()\n",
    "\n",
    "# Increment counter by 1 to make count=100000\n",
    "def increment():\n",
    "    global counter\n",
    "    for _ in range(1000000):\n",
    "        with lock:  ## lock the variable\n",
    "            counter += 1\n",
    "\n",
    "# Run the thread 5 times, to make counter=5,000,000\n",
    "threads = []\n",
    "start_time = time.time()\n",
    "for _ in range(50):\n",
    "    t = Thread(target=increment)\n",
    "    t.start()\n",
    "    threads.append(t)\n",
    "\n",
    "\n",
    "end_time= time.time()\n",
    "print(\"Final counter:\", f\"{counter:,} @ {end_time - start_time}\")\n"
   ]
  },
  {
   "cell_type": "markdown",
   "id": "13177923-510d-467e-8b4a-4847172a7401",
   "metadata": {},
   "source": [
    "### locking the counter and doing a join works- the counting was correct but it took more time to complete about 20sec"
   ]
  },
  {
   "cell_type": "code",
   "execution_count": 43,
   "id": "6b53ac7c-c37e-46c2-8e67-5c1ef2dca7d0",
   "metadata": {},
   "outputs": [
    {
     "name": "stdout",
     "output_type": "stream",
     "text": [
      "Final counter: 50,000,000 @ 20.65900206565857\n"
     ]
    }
   ],
   "source": [
    "\n",
    "\n",
    "from threading import Thread, Lock\n",
    "import time\n",
    "\n",
    "counter = 0\n",
    "lock = Lock()\n",
    "\n",
    "# Increment counter by 1 to make count=100000\n",
    "def increment():\n",
    "    global counter\n",
    "    for _ in range(1000000):\n",
    "        with lock:\n",
    "            counter += 1\n",
    "\n",
    "# Run the thread 5 times, to make counter=500000\n",
    "threads = []\n",
    "start_time = time.time()\n",
    "for _ in range(50):\n",
    "    t = Thread(target=increment)\n",
    "    t.start()\n",
    "    threads.append(t)\n",
    "\n",
    "for t in threads:\n",
    "    t.join()\n",
    " \n",
    "end_time= time.time()\n",
    "print(\"Final counter:\", f\"{counter:,} @ {end_time - start_time}\")\n"
   ]
  },
  {
   "cell_type": "markdown",
   "id": "7c21ee0e-d31c-4bd9-8865-8f04ea6f1d6b",
   "metadata": {},
   "source": [
    "### Counting without lock but using join to finish one count before the other was correct and took less about 5sec"
   ]
  },
  {
   "cell_type": "code",
   "execution_count": 42,
   "id": "548a6ff1-d3fd-4a91-9b69-2ae4446d3f66",
   "metadata": {},
   "outputs": [
    {
     "name": "stdout",
     "output_type": "stream",
     "text": [
      "Final counter: 50,000,000 @ 4.980995416641235\n"
     ]
    }
   ],
   "source": [
    "from threading import Thread \n",
    "import time\n",
    "\n",
    "counter = 0\n",
    "lock = Lock()\n",
    "\n",
    "# Increment counter by 1 to make count=100000\n",
    "def increment():\n",
    "    global counter\n",
    "    for _ in range(1000000):\n",
    "        counter += 1\n",
    "\n",
    "# Run the thread 5 times, to make counter=500000\n",
    "threads = []\n",
    "start_time = time.time()\n",
    "for _ in range(50):\n",
    "    t = Thread(target=increment)\n",
    "    t.start()\n",
    "    threads.append(t)\n",
    "\n",
    "for t in threads:\n",
    "    t.join()\n",
    " \n",
    "end_time= time.time()\n",
    "print(\"Final counter:\", f\"{counter:,} @ {end_time - start_time}\")\n"
   ]
  },
  {
   "cell_type": "code",
   "execution_count": null,
   "id": "f25592b8-d481-46b7-ae2c-7d91be3cefe0",
   "metadata": {},
   "outputs": [],
   "source": []
  }
 ],
 "metadata": {
  "kernelspec": {
   "display_name": "Python 3 (ipykernel)",
   "language": "python",
   "name": "python3"
  },
  "language_info": {
   "codemirror_mode": {
    "name": "ipython",
    "version": 3
   },
   "file_extension": ".py",
   "mimetype": "text/x-python",
   "name": "python",
   "nbconvert_exporter": "python",
   "pygments_lexer": "ipython3",
   "version": "3.12.4"
  }
 },
 "nbformat": 4,
 "nbformat_minor": 5
}
